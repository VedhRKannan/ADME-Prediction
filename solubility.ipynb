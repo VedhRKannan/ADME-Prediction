{
 "cells": [
  {
   "cell_type": "code",
   "execution_count": 9,
   "metadata": {},
   "outputs": [
    {
     "name": "stdout",
     "output_type": "stream",
     "text": [
      "Requirement already satisfied: PyTDC in /Library/Frameworks/Python.framework/Versions/3.12/lib/python3.12/site-packages (1.0.0)\n",
      "Requirement already satisfied: rdkit in /Library/Frameworks/Python.framework/Versions/3.12/lib/python3.12/site-packages (2023.9.6)\n",
      "Requirement already satisfied: tensorflow in /Library/Frameworks/Python.framework/Versions/3.12/lib/python3.12/site-packages (2.18.0)\n",
      "Requirement already satisfied: mordred in /Library/Frameworks/Python.framework/Versions/3.12/lib/python3.12/site-packages (1.2.0)\n",
      "Requirement already satisfied: pandas in /Library/Frameworks/Python.framework/Versions/3.12/lib/python3.12/site-packages (2.2.3)\n",
      "Requirement already satisfied: scikit-learn in /Library/Frameworks/Python.framework/Versions/3.12/lib/python3.12/site-packages (1.2.2)\n",
      "Requirement already satisfied: numpy in /Library/Frameworks/Python.framework/Versions/3.12/lib/python3.12/site-packages (1.26.4)\n",
      "Requirement already satisfied: matplotlib in /Library/Frameworks/Python.framework/Versions/3.12/lib/python3.12/site-packages (3.10.1)\n",
      "Requirement already satisfied: xgboost in /Library/Frameworks/Python.framework/Versions/3.12/lib/python3.12/site-packages (2.1.4)\n",
      "Requirement already satisfied: biopython<2.0,>=1.78 in /Library/Frameworks/Python.framework/Versions/3.12/lib/python3.12/site-packages (from PyTDC) (1.85)\n",
      "Requirement already satisfied: dataclasses<1.0,>=0.6 in /Library/Frameworks/Python.framework/Versions/3.12/lib/python3.12/site-packages (from PyTDC) (0.6)\n",
      "Requirement already satisfied: fuzzywuzzy<1.0,>=0.18.0 in /Library/Frameworks/Python.framework/Versions/3.12/lib/python3.12/site-packages (from PyTDC) (0.18.0)\n",
      "Requirement already satisfied: huggingface_hub<1.0,>=0.20.3 in /Library/Frameworks/Python.framework/Versions/3.12/lib/python3.12/site-packages (from PyTDC) (0.29.1)\n",
      "Requirement already satisfied: mygene<4.0.0,>=3.2.2 in /Library/Frameworks/Python.framework/Versions/3.12/lib/python3.12/site-packages (from PyTDC) (3.2.2)\n",
      "Requirement already satisfied: openpyxl<4.0.0,>=3.0.10 in /Library/Frameworks/Python.framework/Versions/3.12/lib/python3.12/site-packages (from PyTDC) (3.1.5)\n",
      "Requirement already satisfied: requests<3.0.0,>=2.31.0 in /Library/Frameworks/Python.framework/Versions/3.12/lib/python3.12/site-packages (from PyTDC) (2.32.3)\n",
      "Requirement already satisfied: seaborn<1.0.0,>=0.12.2 in /Library/Frameworks/Python.framework/Versions/3.12/lib/python3.12/site-packages (from PyTDC) (0.13.2)\n",
      "Requirement already satisfied: tqdm<5.0.0,>=4.65.0 in /Library/Frameworks/Python.framework/Versions/3.12/lib/python3.12/site-packages (from PyTDC) (4.67.1)\n",
      "Requirement already satisfied: cellxgene-census<2.0.0,>=1.10.2 in /Library/Frameworks/Python.framework/Versions/3.12/lib/python3.12/site-packages (from PyTDC) (1.16.2)\n",
      "Requirement already satisfied: gget<1.0.0,>=0.28.4 in /Library/Frameworks/Python.framework/Versions/3.12/lib/python3.12/site-packages (from PyTDC) (0.29.0)\n",
      "Requirement already satisfied: pydantic<3.0.0,>=2.6.3 in /Library/Frameworks/Python.framework/Versions/3.12/lib/python3.12/site-packages (from PyTDC) (2.10.6)\n",
      "Requirement already satisfied: tiledbsoma<2.0.0,>=1.7.2 in /Library/Frameworks/Python.framework/Versions/3.12/lib/python3.12/site-packages (from PyTDC) (1.15.7)\n",
      "Requirement already satisfied: yapf<1.0.0,>=0.40.2 in /Library/Frameworks/Python.framework/Versions/3.12/lib/python3.12/site-packages (from PyTDC) (0.43.0)\n",
      "Requirement already satisfied: scipy>=1.3.2 in /Library/Frameworks/Python.framework/Versions/3.12/lib/python3.12/site-packages (from scikit-learn) (1.15.2)\n",
      "Requirement already satisfied: joblib>=1.1.1 in /Library/Frameworks/Python.framework/Versions/3.12/lib/python3.12/site-packages (from scikit-learn) (1.4.2)\n",
      "Requirement already satisfied: threadpoolctl>=2.0.0 in /Library/Frameworks/Python.framework/Versions/3.12/lib/python3.12/site-packages (from scikit-learn) (3.5.0)\n",
      "Requirement already satisfied: Pillow in /Library/Frameworks/Python.framework/Versions/3.12/lib/python3.12/site-packages (from rdkit) (11.1.0)\n",
      "Requirement already satisfied: absl-py>=1.0.0 in /Library/Frameworks/Python.framework/Versions/3.12/lib/python3.12/site-packages (from tensorflow) (2.1.0)\n",
      "Requirement already satisfied: astunparse>=1.6.0 in /Library/Frameworks/Python.framework/Versions/3.12/lib/python3.12/site-packages (from tensorflow) (1.6.3)\n",
      "Requirement already satisfied: flatbuffers>=24.3.25 in /Library/Frameworks/Python.framework/Versions/3.12/lib/python3.12/site-packages (from tensorflow) (25.2.10)\n",
      "Requirement already satisfied: gast!=0.5.0,!=0.5.1,!=0.5.2,>=0.2.1 in /Library/Frameworks/Python.framework/Versions/3.12/lib/python3.12/site-packages (from tensorflow) (0.6.0)\n",
      "Requirement already satisfied: google-pasta>=0.1.1 in /Library/Frameworks/Python.framework/Versions/3.12/lib/python3.12/site-packages (from tensorflow) (0.2.0)\n",
      "Requirement already satisfied: libclang>=13.0.0 in /Library/Frameworks/Python.framework/Versions/3.12/lib/python3.12/site-packages (from tensorflow) (18.1.1)\n",
      "Requirement already satisfied: opt-einsum>=2.3.2 in /Library/Frameworks/Python.framework/Versions/3.12/lib/python3.12/site-packages (from tensorflow) (3.4.0)\n",
      "Requirement already satisfied: packaging in /Users/ramalingamkannan/Library/Python/3.12/lib/python/site-packages (from tensorflow) (24.2)\n",
      "Requirement already satisfied: protobuf!=4.21.0,!=4.21.1,!=4.21.2,!=4.21.3,!=4.21.4,!=4.21.5,<6.0.0dev,>=3.20.3 in /Library/Frameworks/Python.framework/Versions/3.12/lib/python3.12/site-packages (from tensorflow) (5.29.3)\n",
      "Requirement already satisfied: setuptools in /Library/Frameworks/Python.framework/Versions/3.12/lib/python3.12/site-packages (from tensorflow) (75.8.2)\n",
      "Requirement already satisfied: six>=1.12.0 in /Users/ramalingamkannan/Library/Python/3.12/lib/python/site-packages (from tensorflow) (1.17.0)\n",
      "Requirement already satisfied: termcolor>=1.1.0 in /Library/Frameworks/Python.framework/Versions/3.12/lib/python3.12/site-packages (from tensorflow) (2.5.0)\n",
      "Requirement already satisfied: typing-extensions>=3.6.6 in /Library/Frameworks/Python.framework/Versions/3.12/lib/python3.12/site-packages (from tensorflow) (4.12.2)\n",
      "Requirement already satisfied: wrapt>=1.11.0 in /Library/Frameworks/Python.framework/Versions/3.12/lib/python3.12/site-packages (from tensorflow) (1.17.2)\n",
      "Requirement already satisfied: grpcio<2.0,>=1.24.3 in /Library/Frameworks/Python.framework/Versions/3.12/lib/python3.12/site-packages (from tensorflow) (1.70.0)\n",
      "Requirement already satisfied: tensorboard<2.19,>=2.18 in /Library/Frameworks/Python.framework/Versions/3.12/lib/python3.12/site-packages (from tensorflow) (2.18.0)\n",
      "Requirement already satisfied: keras>=3.5.0 in /Library/Frameworks/Python.framework/Versions/3.12/lib/python3.12/site-packages (from tensorflow) (3.8.0)\n",
      "Requirement already satisfied: h5py>=3.11.0 in /Library/Frameworks/Python.framework/Versions/3.12/lib/python3.12/site-packages (from tensorflow) (3.13.0)\n",
      "Requirement already satisfied: ml-dtypes<0.5.0,>=0.4.0 in /Library/Frameworks/Python.framework/Versions/3.12/lib/python3.12/site-packages (from tensorflow) (0.4.1)\n",
      "Requirement already satisfied: networkx==2.* in /Library/Frameworks/Python.framework/Versions/3.12/lib/python3.12/site-packages (from mordred) (2.8.8)\n",
      "Requirement already satisfied: python-dateutil>=2.8.2 in /Users/ramalingamkannan/Library/Python/3.12/lib/python/site-packages (from pandas) (2.9.0.post0)\n",
      "Requirement already satisfied: pytz>=2020.1 in /Library/Frameworks/Python.framework/Versions/3.12/lib/python3.12/site-packages (from pandas) (2025.1)\n",
      "Requirement already satisfied: tzdata>=2022.7 in /Library/Frameworks/Python.framework/Versions/3.12/lib/python3.12/site-packages (from pandas) (2025.1)\n",
      "Requirement already satisfied: contourpy>=1.0.1 in /Library/Frameworks/Python.framework/Versions/3.12/lib/python3.12/site-packages (from matplotlib) (1.3.1)\n",
      "Requirement already satisfied: cycler>=0.10 in /Library/Frameworks/Python.framework/Versions/3.12/lib/python3.12/site-packages (from matplotlib) (0.12.1)\n",
      "Requirement already satisfied: fonttools>=4.22.0 in /Library/Frameworks/Python.framework/Versions/3.12/lib/python3.12/site-packages (from matplotlib) (4.56.0)\n",
      "Requirement already satisfied: kiwisolver>=1.3.1 in /Library/Frameworks/Python.framework/Versions/3.12/lib/python3.12/site-packages (from matplotlib) (1.4.8)\n",
      "Requirement already satisfied: pyparsing>=2.3.1 in /Library/Frameworks/Python.framework/Versions/3.12/lib/python3.12/site-packages (from matplotlib) (3.2.1)\n",
      "Requirement already satisfied: wheel<1.0,>=0.23.0 in /Library/Frameworks/Python.framework/Versions/3.12/lib/python3.12/site-packages (from astunparse>=1.6.0->tensorflow) (0.45.1)\n",
      "Requirement already satisfied: anndata in /Library/Frameworks/Python.framework/Versions/3.12/lib/python3.12/site-packages (from cellxgene-census<2.0.0,>=1.10.2->PyTDC) (0.11.3)\n",
      "Requirement already satisfied: s3fs>=2021.06.1 in /Library/Frameworks/Python.framework/Versions/3.12/lib/python3.12/site-packages (from cellxgene-census<2.0.0,>=1.10.2->PyTDC) (2025.2.0)\n",
      "Requirement already satisfied: ipython in /Users/ramalingamkannan/Library/Python/3.12/lib/python/site-packages (from gget<1.0.0,>=0.28.4->PyTDC) (9.0.1)\n",
      "Requirement already satisfied: mysql-connector-python>=8.0.32 in /Library/Frameworks/Python.framework/Versions/3.12/lib/python3.12/site-packages (from gget<1.0.0,>=0.28.4->PyTDC) (9.2.0)\n",
      "Requirement already satisfied: beautifulsoup4>=4.10.0 in /Library/Frameworks/Python.framework/Versions/3.12/lib/python3.12/site-packages (from gget<1.0.0,>=0.28.4->PyTDC) (4.13.3)\n",
      "Requirement already satisfied: ipywidgets in /Library/Frameworks/Python.framework/Versions/3.12/lib/python3.12/site-packages (from gget<1.0.0,>=0.28.4->PyTDC) (8.1.5)\n",
      "Requirement already satisfied: lxml in /Library/Frameworks/Python.framework/Versions/3.12/lib/python3.12/site-packages (from gget<1.0.0,>=0.28.4->PyTDC) (5.3.1)\n",
      "Requirement already satisfied: filelock in /Library/Frameworks/Python.framework/Versions/3.12/lib/python3.12/site-packages (from huggingface_hub<1.0,>=0.20.3->PyTDC) (3.17.0)\n",
      "Requirement already satisfied: fsspec>=2023.5.0 in /Library/Frameworks/Python.framework/Versions/3.12/lib/python3.12/site-packages (from huggingface_hub<1.0,>=0.20.3->PyTDC) (2025.2.0)\n",
      "Requirement already satisfied: pyyaml>=5.1 in /Library/Frameworks/Python.framework/Versions/3.12/lib/python3.12/site-packages (from huggingface_hub<1.0,>=0.20.3->PyTDC) (6.0.2)\n",
      "Requirement already satisfied: rich in /Library/Frameworks/Python.framework/Versions/3.12/lib/python3.12/site-packages (from keras>=3.5.0->tensorflow) (13.9.4)\n",
      "Requirement already satisfied: namex in /Library/Frameworks/Python.framework/Versions/3.12/lib/python3.12/site-packages (from keras>=3.5.0->tensorflow) (0.0.8)\n",
      "Requirement already satisfied: optree in /Library/Frameworks/Python.framework/Versions/3.12/lib/python3.12/site-packages (from keras>=3.5.0->tensorflow) (0.14.1)\n",
      "Requirement already satisfied: biothings-client>=0.2.6 in /Library/Frameworks/Python.framework/Versions/3.12/lib/python3.12/site-packages (from mygene<4.0.0,>=3.2.2->PyTDC) (0.4.1)\n",
      "Requirement already satisfied: et-xmlfile in /Library/Frameworks/Python.framework/Versions/3.12/lib/python3.12/site-packages (from openpyxl<4.0.0,>=3.0.10->PyTDC) (2.0.0)\n",
      "Requirement already satisfied: annotated-types>=0.6.0 in /Library/Frameworks/Python.framework/Versions/3.12/lib/python3.12/site-packages (from pydantic<3.0.0,>=2.6.3->PyTDC) (0.7.0)\n",
      "Requirement already satisfied: pydantic-core==2.27.2 in /Library/Frameworks/Python.framework/Versions/3.12/lib/python3.12/site-packages (from pydantic<3.0.0,>=2.6.3->PyTDC) (2.27.2)\n",
      "Requirement already satisfied: charset-normalizer<4,>=2 in /Library/Frameworks/Python.framework/Versions/3.12/lib/python3.12/site-packages (from requests<3.0.0,>=2.31.0->PyTDC) (3.4.1)\n",
      "Requirement already satisfied: idna<4,>=2.5 in /Library/Frameworks/Python.framework/Versions/3.12/lib/python3.12/site-packages (from requests<3.0.0,>=2.31.0->PyTDC) (3.10)\n",
      "Requirement already satisfied: urllib3<3,>=1.21.1 in /Library/Frameworks/Python.framework/Versions/3.12/lib/python3.12/site-packages (from requests<3.0.0,>=2.31.0->PyTDC) (2.3.0)\n",
      "Requirement already satisfied: certifi>=2017.4.17 in /Library/Frameworks/Python.framework/Versions/3.12/lib/python3.12/site-packages (from requests<3.0.0,>=2.31.0->PyTDC) (2025.1.31)\n",
      "Requirement already satisfied: markdown>=2.6.8 in /Library/Frameworks/Python.framework/Versions/3.12/lib/python3.12/site-packages (from tensorboard<2.19,>=2.18->tensorflow) (3.7)\n",
      "Requirement already satisfied: tensorboard-data-server<0.8.0,>=0.7.0 in /Library/Frameworks/Python.framework/Versions/3.12/lib/python3.12/site-packages (from tensorboard<2.19,>=2.18->tensorflow) (0.7.2)\n",
      "Requirement already satisfied: werkzeug>=1.0.1 in /Library/Frameworks/Python.framework/Versions/3.12/lib/python3.12/site-packages (from tensorboard<2.19,>=2.18->tensorflow) (3.1.3)\n",
      "Requirement already satisfied: attrs>=22.2 in /Library/Frameworks/Python.framework/Versions/3.12/lib/python3.12/site-packages (from tiledbsoma<2.0.0,>=1.7.2->PyTDC) (25.1.0)\n",
      "Requirement already satisfied: pyarrow in /Library/Frameworks/Python.framework/Versions/3.12/lib/python3.12/site-packages (from tiledbsoma<2.0.0,>=1.7.2->PyTDC) (19.0.1)\n",
      "Requirement already satisfied: scanpy>=1.9.2 in /Library/Frameworks/Python.framework/Versions/3.12/lib/python3.12/site-packages (from tiledbsoma<2.0.0,>=1.7.2->PyTDC) (1.11.0)\n",
      "Requirement already satisfied: somacore==1.0.26 in /Library/Frameworks/Python.framework/Versions/3.12/lib/python3.12/site-packages (from tiledbsoma<2.0.0,>=1.7.2->PyTDC) (1.0.26)\n",
      "Requirement already satisfied: pyarrow-hotfix in /Library/Frameworks/Python.framework/Versions/3.12/lib/python3.12/site-packages (from somacore==1.0.26->tiledbsoma<2.0.0,>=1.7.2->PyTDC) (0.6)\n",
      "Requirement already satisfied: shapely in /Library/Frameworks/Python.framework/Versions/3.12/lib/python3.12/site-packages (from somacore==1.0.26->tiledbsoma<2.0.0,>=1.7.2->PyTDC) (2.0.7)\n",
      "Requirement already satisfied: platformdirs>=3.5.1 in /Users/ramalingamkannan/Library/Python/3.12/lib/python/site-packages (from yapf<1.0.0,>=0.40.2->PyTDC) (4.3.6)\n",
      "Requirement already satisfied: array-api-compat!=1.5,>1.4 in /Library/Frameworks/Python.framework/Versions/3.12/lib/python3.12/site-packages (from anndata->cellxgene-census<2.0.0,>=1.10.2->PyTDC) (1.11)\n",
      "Requirement already satisfied: natsort in /Library/Frameworks/Python.framework/Versions/3.12/lib/python3.12/site-packages (from anndata->cellxgene-census<2.0.0,>=1.10.2->PyTDC) (8.4.0)\n",
      "Requirement already satisfied: soupsieve>1.2 in /Library/Frameworks/Python.framework/Versions/3.12/lib/python3.12/site-packages (from beautifulsoup4>=4.10.0->gget<1.0.0,>=0.28.4->PyTDC) (2.6)\n",
      "Requirement already satisfied: httpx>=0.22.0 in /Library/Frameworks/Python.framework/Versions/3.12/lib/python3.12/site-packages (from biothings-client>=0.2.6->mygene<4.0.0,>=3.2.2->PyTDC) (0.28.1)\n",
      "Requirement already satisfied: aiobotocore<3.0.0,>=2.5.4 in /Library/Frameworks/Python.framework/Versions/3.12/lib/python3.12/site-packages (from s3fs>=2021.06.1->cellxgene-census<2.0.0,>=1.10.2->PyTDC) (2.21.0)\n",
      "Requirement already satisfied: aiohttp!=4.0.0a0,!=4.0.0a1 in /Library/Frameworks/Python.framework/Versions/3.12/lib/python3.12/site-packages (from s3fs>=2021.06.1->cellxgene-census<2.0.0,>=1.10.2->PyTDC) (3.11.13)\n",
      "Requirement already satisfied: legacy-api-wrap>=1.4 in /Library/Frameworks/Python.framework/Versions/3.12/lib/python3.12/site-packages (from scanpy>=1.9.2->tiledbsoma<2.0.0,>=1.7.2->PyTDC) (1.4.1)\n",
      "Requirement already satisfied: numba>=0.57 in /Library/Frameworks/Python.framework/Versions/3.12/lib/python3.12/site-packages (from scanpy>=1.9.2->tiledbsoma<2.0.0,>=1.7.2->PyTDC) (0.61.0)\n",
      "Requirement already satisfied: patsy!=1.0.0 in /Library/Frameworks/Python.framework/Versions/3.12/lib/python3.12/site-packages (from scanpy>=1.9.2->tiledbsoma<2.0.0,>=1.7.2->PyTDC) (1.0.1)\n",
      "Requirement already satisfied: pynndescent>=0.5 in /Library/Frameworks/Python.framework/Versions/3.12/lib/python3.12/site-packages (from scanpy>=1.9.2->tiledbsoma<2.0.0,>=1.7.2->PyTDC) (0.5.13)\n",
      "Requirement already satisfied: session-info2 in /Library/Frameworks/Python.framework/Versions/3.12/lib/python3.12/site-packages (from scanpy>=1.9.2->tiledbsoma<2.0.0,>=1.7.2->PyTDC) (0.1.2)\n",
      "Requirement already satisfied: statsmodels>=0.13 in /Library/Frameworks/Python.framework/Versions/3.12/lib/python3.12/site-packages (from scanpy>=1.9.2->tiledbsoma<2.0.0,>=1.7.2->PyTDC) (0.14.4)\n",
      "Requirement already satisfied: umap-learn!=0.5.0,>=0.5 in /Library/Frameworks/Python.framework/Versions/3.12/lib/python3.12/site-packages (from scanpy>=1.9.2->tiledbsoma<2.0.0,>=1.7.2->PyTDC) (0.5.7)\n",
      "Requirement already satisfied: MarkupSafe>=2.1.1 in /Library/Frameworks/Python.framework/Versions/3.12/lib/python3.12/site-packages (from werkzeug>=1.0.1->tensorboard<2.19,>=2.18->tensorflow) (3.0.2)\n",
      "Requirement already satisfied: decorator in /Users/ramalingamkannan/Library/Python/3.12/lib/python/site-packages (from ipython->gget<1.0.0,>=0.28.4->PyTDC) (5.2.1)\n",
      "Requirement already satisfied: ipython-pygments-lexers in /Users/ramalingamkannan/Library/Python/3.12/lib/python/site-packages (from ipython->gget<1.0.0,>=0.28.4->PyTDC) (1.1.1)\n",
      "Requirement already satisfied: jedi>=0.16 in /Users/ramalingamkannan/Library/Python/3.12/lib/python/site-packages (from ipython->gget<1.0.0,>=0.28.4->PyTDC) (0.19.2)\n",
      "Requirement already satisfied: matplotlib-inline in /Users/ramalingamkannan/Library/Python/3.12/lib/python/site-packages (from ipython->gget<1.0.0,>=0.28.4->PyTDC) (0.1.7)\n",
      "Requirement already satisfied: pexpect>4.3 in /Users/ramalingamkannan/Library/Python/3.12/lib/python/site-packages (from ipython->gget<1.0.0,>=0.28.4->PyTDC) (4.9.0)\n",
      "Requirement already satisfied: prompt_toolkit<3.1.0,>=3.0.41 in /Users/ramalingamkannan/Library/Python/3.12/lib/python/site-packages (from ipython->gget<1.0.0,>=0.28.4->PyTDC) (3.0.50)\n",
      "Requirement already satisfied: pygments>=2.4.0 in /Users/ramalingamkannan/Library/Python/3.12/lib/python/site-packages (from ipython->gget<1.0.0,>=0.28.4->PyTDC) (2.19.1)\n",
      "Requirement already satisfied: stack_data in /Users/ramalingamkannan/Library/Python/3.12/lib/python/site-packages (from ipython->gget<1.0.0,>=0.28.4->PyTDC) (0.6.3)\n",
      "Requirement already satisfied: traitlets>=5.13.0 in /Users/ramalingamkannan/Library/Python/3.12/lib/python/site-packages (from ipython->gget<1.0.0,>=0.28.4->PyTDC) (5.14.3)\n",
      "Requirement already satisfied: comm>=0.1.3 in /Users/ramalingamkannan/Library/Python/3.12/lib/python/site-packages (from ipywidgets->gget<1.0.0,>=0.28.4->PyTDC) (0.2.2)\n",
      "Requirement already satisfied: widgetsnbextension~=4.0.12 in /Library/Frameworks/Python.framework/Versions/3.12/lib/python3.12/site-packages (from ipywidgets->gget<1.0.0,>=0.28.4->PyTDC) (4.0.13)\n",
      "Requirement already satisfied: jupyterlab-widgets~=3.0.12 in /Library/Frameworks/Python.framework/Versions/3.12/lib/python3.12/site-packages (from ipywidgets->gget<1.0.0,>=0.28.4->PyTDC) (3.0.13)\n",
      "Requirement already satisfied: markdown-it-py>=2.2.0 in /Library/Frameworks/Python.framework/Versions/3.12/lib/python3.12/site-packages (from rich->keras>=3.5.0->tensorflow) (3.0.0)\n",
      "Requirement already satisfied: aioitertools<1.0.0,>=0.5.1 in /Library/Frameworks/Python.framework/Versions/3.12/lib/python3.12/site-packages (from aiobotocore<3.0.0,>=2.5.4->s3fs>=2021.06.1->cellxgene-census<2.0.0,>=1.10.2->PyTDC) (0.12.0)\n",
      "Requirement already satisfied: botocore<1.37.2,>=1.37.0 in /Library/Frameworks/Python.framework/Versions/3.12/lib/python3.12/site-packages (from aiobotocore<3.0.0,>=2.5.4->s3fs>=2021.06.1->cellxgene-census<2.0.0,>=1.10.2->PyTDC) (1.37.1)\n",
      "Requirement already satisfied: jmespath<2.0.0,>=0.7.1 in /Library/Frameworks/Python.framework/Versions/3.12/lib/python3.12/site-packages (from aiobotocore<3.0.0,>=2.5.4->s3fs>=2021.06.1->cellxgene-census<2.0.0,>=1.10.2->PyTDC) (1.0.1)\n",
      "Requirement already satisfied: multidict<7.0.0,>=6.0.0 in /Library/Frameworks/Python.framework/Versions/3.12/lib/python3.12/site-packages (from aiobotocore<3.0.0,>=2.5.4->s3fs>=2021.06.1->cellxgene-census<2.0.0,>=1.10.2->PyTDC) (6.1.0)\n",
      "Requirement already satisfied: aiohappyeyeballs>=2.3.0 in /Library/Frameworks/Python.framework/Versions/3.12/lib/python3.12/site-packages (from aiohttp!=4.0.0a0,!=4.0.0a1->s3fs>=2021.06.1->cellxgene-census<2.0.0,>=1.10.2->PyTDC) (2.4.6)\n",
      "Requirement already satisfied: aiosignal>=1.1.2 in /Library/Frameworks/Python.framework/Versions/3.12/lib/python3.12/site-packages (from aiohttp!=4.0.0a0,!=4.0.0a1->s3fs>=2021.06.1->cellxgene-census<2.0.0,>=1.10.2->PyTDC) (1.3.2)\n",
      "Requirement already satisfied: frozenlist>=1.1.1 in /Library/Frameworks/Python.framework/Versions/3.12/lib/python3.12/site-packages (from aiohttp!=4.0.0a0,!=4.0.0a1->s3fs>=2021.06.1->cellxgene-census<2.0.0,>=1.10.2->PyTDC) (1.5.0)\n",
      "Requirement already satisfied: propcache>=0.2.0 in /Library/Frameworks/Python.framework/Versions/3.12/lib/python3.12/site-packages (from aiohttp!=4.0.0a0,!=4.0.0a1->s3fs>=2021.06.1->cellxgene-census<2.0.0,>=1.10.2->PyTDC) (0.3.0)\n",
      "Requirement already satisfied: yarl<2.0,>=1.17.0 in /Library/Frameworks/Python.framework/Versions/3.12/lib/python3.12/site-packages (from aiohttp!=4.0.0a0,!=4.0.0a1->s3fs>=2021.06.1->cellxgene-census<2.0.0,>=1.10.2->PyTDC) (1.18.3)\n",
      "Requirement already satisfied: anyio in /Library/Frameworks/Python.framework/Versions/3.12/lib/python3.12/site-packages (from httpx>=0.22.0->biothings-client>=0.2.6->mygene<4.0.0,>=3.2.2->PyTDC) (4.8.0)\n",
      "Requirement already satisfied: httpcore==1.* in /Library/Frameworks/Python.framework/Versions/3.12/lib/python3.12/site-packages (from httpx>=0.22.0->biothings-client>=0.2.6->mygene<4.0.0,>=3.2.2->PyTDC) (1.0.7)\n",
      "Requirement already satisfied: h11<0.15,>=0.13 in /Library/Frameworks/Python.framework/Versions/3.12/lib/python3.12/site-packages (from httpcore==1.*->httpx>=0.22.0->biothings-client>=0.2.6->mygene<4.0.0,>=3.2.2->PyTDC) (0.14.0)\n",
      "Requirement already satisfied: parso<0.9.0,>=0.8.4 in /Users/ramalingamkannan/Library/Python/3.12/lib/python/site-packages (from jedi>=0.16->ipython->gget<1.0.0,>=0.28.4->PyTDC) (0.8.4)\n",
      "Requirement already satisfied: mdurl~=0.1 in /Library/Frameworks/Python.framework/Versions/3.12/lib/python3.12/site-packages (from markdown-it-py>=2.2.0->rich->keras>=3.5.0->tensorflow) (0.1.2)\n",
      "Requirement already satisfied: llvmlite<0.45,>=0.44.0dev0 in /Library/Frameworks/Python.framework/Versions/3.12/lib/python3.12/site-packages (from numba>=0.57->scanpy>=1.9.2->tiledbsoma<2.0.0,>=1.7.2->PyTDC) (0.44.0)\n",
      "Requirement already satisfied: ptyprocess>=0.5 in /Users/ramalingamkannan/Library/Python/3.12/lib/python/site-packages (from pexpect>4.3->ipython->gget<1.0.0,>=0.28.4->PyTDC) (0.7.0)\n",
      "Requirement already satisfied: wcwidth in /Users/ramalingamkannan/Library/Python/3.12/lib/python/site-packages (from prompt_toolkit<3.1.0,>=3.0.41->ipython->gget<1.0.0,>=0.28.4->PyTDC) (0.2.13)\n",
      "Requirement already satisfied: executing>=1.2.0 in /Users/ramalingamkannan/Library/Python/3.12/lib/python/site-packages (from stack_data->ipython->gget<1.0.0,>=0.28.4->PyTDC) (2.2.0)\n",
      "Requirement already satisfied: asttokens>=2.1.0 in /Users/ramalingamkannan/Library/Python/3.12/lib/python/site-packages (from stack_data->ipython->gget<1.0.0,>=0.28.4->PyTDC) (3.0.0)\n",
      "Requirement already satisfied: pure-eval in /Users/ramalingamkannan/Library/Python/3.12/lib/python/site-packages (from stack_data->ipython->gget<1.0.0,>=0.28.4->PyTDC) (0.2.3)\n",
      "Requirement already satisfied: sniffio>=1.1 in /Library/Frameworks/Python.framework/Versions/3.12/lib/python3.12/site-packages (from anyio->httpx>=0.22.0->biothings-client>=0.2.6->mygene<4.0.0,>=3.2.2->PyTDC) (1.3.1)\n",
      "\n",
      "\u001b[1m[\u001b[0m\u001b[34;49mnotice\u001b[0m\u001b[1;39;49m]\u001b[0m\u001b[39;49m A new release of pip is available: \u001b[0m\u001b[31;49m24.2\u001b[0m\u001b[39;49m -> \u001b[0m\u001b[32;49m25.0.1\u001b[0m\n",
      "\u001b[1m[\u001b[0m\u001b[34;49mnotice\u001b[0m\u001b[1;39;49m]\u001b[0m\u001b[39;49m To update, run: \u001b[0m\u001b[32;49mpython3.12 -m pip install --upgrade pip\u001b[0m\n"
     ]
    }
   ],
   "source": [
    "!pip3 install PyTDC rdkit tensorflow mordred pandas scikit-learn numpy matplotlib xgboost\n"
   ]
  },
  {
   "cell_type": "code",
   "execution_count": 1,
   "metadata": {},
   "outputs": [],
   "source": [
    "import numpy as np\n",
    "import pandas as pd\n",
    "from rdkit import Chem\n",
    "from rdkit.Chem import AllChem\n",
    "from rdkit import DataStructs\n",
    "from sklearn.metrics import mean_squared_error, mean_absolute_error\n",
    "import matplotlib.pyplot as plt\n",
    "from sklearn.model_selection import train_test_split\n",
    "from tdc.single_pred import ADME"
   ]
  },
  {
   "cell_type": "code",
   "execution_count": 5,
   "metadata": {},
   "outputs": [
    {
     "name": "stderr",
     "output_type": "stream",
     "text": [
      "Found local copy...\n",
      "Loading...\n",
      "Done!\n"
     ]
    }
   ],
   "source": [
    "from tdc.single_pred import ADME\n",
    "data = ADME(name = 'Solubility_AqSolDB')\n",
    "split = data.get_split()\n",
    "data = data.get_data()\n"
   ]
  },
  {
   "cell_type": "code",
   "execution_count": 6,
   "metadata": {},
   "outputs": [],
   "source": [
    "def mol_to_fp(smiles, radius=2, nBits=1024):\n",
    "    mol = Chem.MolFromSmiles(smiles)\n",
    "    if mol is None:\n",
    "        return np.zeros(nBits, dtype=int)\n",
    "    fp = AllChem.GetMorganFingerprintAsBitVect(mol, radius, nBits=nBits)\n",
    "    arr = np.zeros((nBits,), dtype=int)\n",
    "    DataStructs.ConvertToNumpyArray(fp, arr)\n",
    "    return arr"
   ]
  },
  {
   "cell_type": "code",
   "execution_count": 7,
   "metadata": {},
   "outputs": [
    {
     "name": "stderr",
     "output_type": "stream",
     "text": [
      "[17:52:39] WARNING: not removing hydrogen atom without neighbors\n",
      "[17:52:39] WARNING: not removing hydrogen atom without neighbors\n",
      "[17:52:39] WARNING: not removing hydrogen atom without neighbors\n",
      "[17:52:39] WARNING: not removing hydrogen atom without neighbors\n",
      "[17:52:39] WARNING: not removing hydrogen atom without neighbors\n",
      "[17:52:39] WARNING: not removing hydrogen atom without neighbors\n",
      "[17:52:39] WARNING: not removing hydrogen atom without neighbors\n",
      "[17:52:39] WARNING: not removing hydrogen atom without neighbors\n",
      "[17:52:39] WARNING: not removing hydrogen atom without neighbors\n",
      "[17:52:39] WARNING: not removing hydrogen atom without neighbors\n",
      "[17:52:39] WARNING: not removing hydrogen atom without neighbors\n",
      "[17:52:40] WARNING: not removing hydrogen atom without neighbors\n",
      "[17:52:40] WARNING: not removing hydrogen atom without neighbors\n",
      "[17:52:40] WARNING: not removing hydrogen atom without neighbors\n",
      "[17:52:40] WARNING: not removing hydrogen atom without neighbors\n",
      "[17:52:40] WARNING: not removing hydrogen atom without neighbors\n",
      "[17:52:40] WARNING: not removing hydrogen atom without neighbors\n",
      "[17:52:40] WARNING: not removing hydrogen atom without neighbors\n",
      "[17:52:40] WARNING: not removing hydrogen atom without neighbors\n",
      "[17:52:40] WARNING: not removing hydrogen atom without neighbors\n",
      "[17:52:40] WARNING: not removing hydrogen atom without neighbors\n",
      "[17:52:40] WARNING: not removing hydrogen atom without neighbors\n",
      "[17:52:40] WARNING: not removing hydrogen atom without neighbors\n",
      "[17:52:40] WARNING: not removing hydrogen atom without neighbors\n",
      "[17:52:40] WARNING: not removing hydrogen atom without neighbors\n",
      "[17:52:40] WARNING: not removing hydrogen atom without neighbors\n",
      "[17:52:40] WARNING: not removing hydrogen atom without neighbors\n",
      "[17:52:40] WARNING: not removing hydrogen atom without neighbors\n",
      "[17:52:40] WARNING: not removing hydrogen atom without neighbors\n",
      "[17:52:40] WARNING: not removing hydrogen atom without neighbors\n",
      "[17:52:40] WARNING: not removing hydrogen atom without neighbors\n",
      "[17:52:40] WARNING: not removing hydrogen atom without neighbors\n",
      "[17:52:40] WARNING: not removing hydrogen atom without neighbors\n",
      "[17:52:40] WARNING: not removing hydrogen atom without neighbors\n",
      "[17:52:40] WARNING: not removing hydrogen atom without neighbors\n",
      "[17:52:40] WARNING: not removing hydrogen atom without neighbors\n",
      "[17:52:40] WARNING: not removing hydrogen atom without neighbors\n",
      "[17:52:40] WARNING: not removing hydrogen atom without neighbors\n",
      "[17:52:40] WARNING: not removing hydrogen atom without neighbors\n",
      "[17:52:40] WARNING: not removing hydrogen atom without neighbors\n",
      "[17:52:40] WARNING: not removing hydrogen atom without neighbors\n",
      "[17:52:40] WARNING: not removing hydrogen atom without neighbors\n",
      "[17:52:40] WARNING: not removing hydrogen atom without neighbors\n",
      "[17:52:40] WARNING: not removing hydrogen atom without neighbors\n",
      "[17:52:40] WARNING: not removing hydrogen atom without neighbors\n",
      "[17:52:40] WARNING: not removing hydrogen atom without neighbors\n",
      "[17:52:40] WARNING: not removing hydrogen atom without neighbors\n",
      "[17:52:40] WARNING: not removing hydrogen atom without neighbors\n",
      "[17:52:40] WARNING: not removing hydrogen atom without neighbors\n",
      "[17:52:40] WARNING: not removing hydrogen atom without neighbors\n",
      "[17:52:40] WARNING: not removing hydrogen atom without neighbors\n",
      "[17:52:40] WARNING: not removing hydrogen atom without neighbors\n",
      "[17:52:40] WARNING: not removing hydrogen atom without neighbors\n",
      "[17:52:40] WARNING: not removing hydrogen atom without neighbors\n",
      "[17:52:40] WARNING: not removing hydrogen atom without neighbors\n",
      "[17:52:40] WARNING: not removing hydrogen atom without neighbors\n",
      "[17:52:40] WARNING: not removing hydrogen atom without neighbors\n",
      "[17:52:40] WARNING: not removing hydrogen atom without neighbors\n",
      "[17:52:40] WARNING: not removing hydrogen atom without neighbors\n",
      "[17:52:40] WARNING: not removing hydrogen atom without neighbors\n",
      "[17:52:40] WARNING: not removing hydrogen atom without neighbors\n",
      "[17:52:40] WARNING: not removing hydrogen atom without neighbors\n",
      "[17:52:40] WARNING: not removing hydrogen atom without neighbors\n",
      "[17:52:40] WARNING: not removing hydrogen atom without neighbors\n",
      "[17:52:40] WARNING: not removing hydrogen atom without neighbors\n"
     ]
    },
    {
     "name": "stdout",
     "output_type": "stream",
     "text": [
      "(9982, 1024) (9982,)\n"
     ]
    }
   ],
   "source": [
    "X = np.array([mol_to_fp(i) for i in data['Drug']])\n",
    "y = np.array(data['Y'])\n",
    "print(X.shape, y.shape)"
   ]
  },
  {
   "cell_type": "code",
   "execution_count": 8,
   "metadata": {},
   "outputs": [],
   "source": [
    "X_train, X_test, y_train, y_test = train_test_split(X, y, test_size=0.2, random_state=42)"
   ]
  },
  {
   "cell_type": "code",
   "execution_count": 10,
   "metadata": {},
   "outputs": [
    {
     "name": "stdout",
     "output_type": "stream",
     "text": [
      "=== Grid Search for XGBRegressor ===\n",
      "Best Parameters: {'learning_rate': 0.1, 'max_depth': 10, 'n_estimators': 300}\n",
      "CV MSE: 1.9030248921130073\n",
      "Test RMSE: 1.2857622113154235\n",
      "\n",
      "Best overall model: XGBRegressor\n",
      "Parameters: {'learning_rate': 0.1, 'max_depth': 10, 'n_estimators': 300}\n",
      "Test MSE: 1.6531844640467275\n"
     ]
    }
   ],
   "source": [
    "import numpy as np\n",
    "import matplotlib.pyplot as plt\n",
    "\n",
    "from sklearn.ensemble import RandomForestRegressor\n",
    "from xgboost import XGBRegressor\n",
    "from sklearn.model_selection import GridSearchCV\n",
    "from sklearn.metrics import mean_squared_error\n",
    "\n",
    "# Can add more models if you want but I've already found this to be the best (and pretty fast)\n",
    "\n",
    "models = {\n",
    "    \"XGBRegressor\": {\n",
    "        \"model\": XGBRegressor(random_state=33),\n",
    "        \"param_grid\": {\n",
    "            'n_estimators': [100, 300],\n",
    "            'max_depth': [3, 6, 10],\n",
    "            'learning_rate': [0.01, 0.1],\n",
    "        },\n",
    "    },\n",
    "}\n",
    "\n",
    "best_models = {}\n",
    "best_scores = {}\n",
    "best_params = {}\n",
    "\n",
    "for model_name, mp in models.items():\n",
    "    print(f\"=== Grid Search for {model_name} ===\")\n",
    "    grid_search = GridSearchCV(\n",
    "        estimator=mp[\"model\"],\n",
    "        param_grid=mp[\"param_grid\"],\n",
    "        scoring='neg_mean_squared_error',  \n",
    "        cv=5,\n",
    "        n_jobs=-1\n",
    "    )\n",
    "    grid_search.fit(X_train, y_train)\n",
    "\n",
    "    \n",
    "    best_estimator = grid_search.best_estimator_\n",
    "    cv_mse = -grid_search.best_score_  \n",
    "\n",
    "    # Evaluate on the test set\n",
    "    y_pred_test = best_estimator.predict(X_test)\n",
    "    test_mse = mean_squared_error(y_test, y_pred_test)\n",
    "    test_rmse = np.sqrt(test_mse)\n",
    "\n",
    "    print(\"Best Parameters:\", grid_search.best_params_)\n",
    "    print(\"CV MSE:\", cv_mse)\n",
    "    print(\"Test RMSE:\", test_rmse)\n",
    "    print(\"\")\n",
    "\n",
    "    \n",
    "    best_models[model_name] = best_estimator\n",
    "    best_scores[model_name] = test_mse\n",
    "    best_params[model_name] = grid_search.best_params_\n",
    "\n",
    "\n",
    "best_model_name = min(best_scores, key=best_scores.get)\n",
    "best_model = best_models[best_model_name]\n",
    "\n",
    "print(f\"Best overall model: {best_model_name}\")\n",
    "print(f\"Parameters: {best_params[best_model_name]}\")\n",
    "print(f\"Test MSE: {best_scores[best_model_name]}\")\n",
    "\n"
   ]
  },
  {
   "cell_type": "code",
   "execution_count": 11,
   "metadata": {},
   "outputs": [
    {
     "data": {
      "image/png": "[encoded data removed]",
      "text/plain": [
       "<Figure size 640x480 with 1 Axes>"
      ]
     },
     "metadata": {},
     "output_type": "display_data"
    }
   ],
   "source": [
    "# plot Y distribution\n",
    "plt.hist(y, bins=50)\n",
    "plt.title(\"Y distribution\")\n",
    "plt.show()\n"
   ]
  },
  {
   "cell_type": "code",
   "execution_count": 12,
   "metadata": {},
   "outputs": [
    {
     "name": "stdout",
     "output_type": "stream",
     "text": [
      "Test MSE: 1.6531844640467275\n",
      "Test MAE: 0.9364123160521413\n",
      "Test R^2: 0.6952456106213676\n"
     ]
    }
   ],
   "source": [
    "from sklearn.metrics import mean_squared_error, mean_absolute_error, r2_score\n",
    "\n",
    "y_pred = best_model.predict(X_test)\n",
    "\n",
    "mse_test = mean_squared_error(y_test, y_pred)\n",
    "mae_test = mean_absolute_error(y_test, y_pred)\n",
    "r2_test = r2_score(y_test, y_pred)\n",
    "\n",
    "print(\"Test MSE:\", mse_test)\n",
    "print(\"Test MAE:\", mae_test)\n",
    "print(\"Test R^2:\", r2_test)"
   ]
  },
  {
   "cell_type": "code",
   "execution_count": 13,
   "metadata": {},
   "outputs": [
    {
     "data": {
      "image/png": "[encoded data removed]",
      "text/plain": [
       "<Figure size 640x480 with 1 Axes>"
      ]
     },
     "metadata": {},
     "output_type": "display_data"
    }
   ],
   "source": [
    "import matplotlib.pyplot as plt\n",
    "\n",
    "\n",
    "plt.scatter(y_test, y_pred)\n",
    "plt.xlabel(\"Actual Solubility (logS)\")\n",
    "plt.ylabel(\"Predicted Solubility (logS)\")\n",
    "plt.title(\"Predicted vs. Actual Solubility\")\n",
    "\n",
    "min_val = min(y_test.min(), y_pred.min())\n",
    "max_val = max(y_test.max(), y_pred.max())\n",
    "plt.plot([min_val, max_val], [min_val, max_val], 'r--')\n",
    "plt.show()"
   ]
  },
  {
   "cell_type": "code",
   "execution_count": 14,
   "metadata": {},
   "outputs": [
    {
     "data": {
      "text/plain": [
       "array([-1.8039013], dtype=float32)"
      ]
     },
     "execution_count": 14,
     "metadata": {},
     "output_type": "execute_result"
    }
   ],
   "source": [
    "test_smiles = \"CC(=O)Nc1ccc(cc1)O\" \n",
    "test_smiles = mol_to_fp(test_smiles)\n",
    "\n",
    "best_model.predict([test_smiles])"
   ]
  }
 ],
 "metadata": {
  "kernelspec": {
   "display_name": "Python 3",
   "language": "python",
   "name": "python3"
  },
  "language_info": {
   "codemirror_mode": {
    "name": "ipython",
    "version": 3
   },
   "file_extension": ".py",
   "mimetype": "text/x-python",
   "name": "python",
   "nbconvert_exporter": "python",
   "pygments_lexer": "ipython3",
   "version": "3.12.7"
  }
 },
 "nbformat": 4,
 "nbformat_minor": 2
}
